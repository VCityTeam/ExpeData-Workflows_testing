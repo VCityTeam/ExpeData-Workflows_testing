{
  "cells": [
    {
      "cell_type": "markdown",
      "metadata": {},
      "source": [
        "## A brief hands on illustration of Argo Workflows"
      ]
    },
    {
      "cell_type": "markdown",
      "metadata": {},
      "source": [
        "\n",
        "\n",
        "### Containers e.g. docker (prerequisite) \n",
        "\n",
        "[**Definition (wikipedia)**](https://en.wikipedia.org/wiki/Docker_(software)): \n",
        "Docker is a set of platform as a service (PaaS) products that use OS-level \n",
        "virtualization to deliver software in packages called containers. [...] The \n",
        "software that hosts the containers is called Docker Engine.\n",
        "\n",
        "<center>\n",
        "  <img src=\"Images/Docker-architecture-high-level-overview.png\" alt=\"drawing\" width=\"800\"/>\n",
        "\n",
        "  Docker architecture ([image copyright](https://docs.docker.com/get-started/overview/#docker-architecture))\n",
        "</center>\n",
        "\n",
        "Notes:\n",
        " * Main commands: `docker build <image>`, `docker pull <image>`, `docker run <image>`\n",
        " * [Docker Desktop](https://www.docker.com/products/docker-desktop/): a popular \n",
        "   implementation made by \n",
        "   [Docker Inc.](https://en.wikipedia.org/wiki/Docker,_Inc.)\n",
        "   Since [August 2021](https://en.wikipedia.org/wiki/Docker_(software)#Adoption) \n",
        "   Docker Desktop for Windows and MacOS is **no longer free** for enterprise \n",
        "   users.\n",
        " * [Alternative implementations](https://blog.alexellis.io/building-containers-without-docker/): \n",
        "   [Kaniko](https://github.com/GoogleContainerTools/kaniko)(unofficial Google \n",
        "   builder), \n",
        "   [podman](https://podman.io/)/[buildah](https://github.com/containers/buildah)\n",
        "   (RedHat / IBM's efforts),\n",
        "   [pouch](https://github.com/alibaba/pouch) (Alibaba)..."
      ]
    },
    {
      "cell_type": "markdown",
      "metadata": {},
      "source": [
        "---\n",
        "\n",
        "### Kubernetes (prerequisite)\n",
        "\n",
        "[**Definition** (wikipedia)](https://en.wikipedia.org/wiki/Kubernetes): Kubernetes\n",
        "(commonly stylized as K8s) is an open-source container (including docker) \n",
        "orchestration system for automating software deployment, scaling, and management.\n",
        "\n",
        "<center>\n",
        "  <img src=\"Images/kubernetes_architecture_and_cluster_components-Medium_dot_com.png\" alt=\"drawing\" width=\"800\"/>\n",
        "  \n",
        "  Kubernetes architecture and components ([image copyright](https://miro.medium.com/max/1000/1*kSRH4T8S1YmAuHbpgQ3Ylw.png))\n",
        "</center>\n",
        "\n",
        "Note: [Pod](https://kubernetes.io/docs/concepts/workloads/pods/) (K8s terminology): \n",
        "a group of one or more containers (the smallest deployable units of computing that\n",
        "you can create and manage in Kubernetes)"
      ]
    },
    {
      "cell_type": "markdown",
      "metadata": {},
      "source": [
        "---\n",
        "\n",
        "### [Minikube](https://minikube.sigs.k8s.io/docs/) (prerequisite)\n",
        "\n",
        "[**Definition**](https://github.com/kubernetes/minikube):  minikube implements \n",
        "local Kubernetes cluster on macOS, Linux, and Windows.\n",
        "\n",
        "<center>\n",
        "  <img src=\"Images/minikube-architecture.png\" alt=\"drawing\" width=\"800\"/>\n",
        "</center>\n",
        "\n",
        "Notes: \n",
        "* Minikube is provided by the k8s community \n",
        "  ([Apache license](https://github.com/kubernetes/minikube/blob/master/LICENSE)).\n",
        "* Minikube provides a docker engine."
      ]
    },
    {
      "cell_type": "markdown",
      "metadata": {},
      "source": [
        "---\n",
        "## Installing minikube"
      ]
    },
    {
      "cell_type": "code",
      "execution_count": 8,
      "metadata": {
        "vscode": {
          "languageId": "shellscript"
        }
      },
      "outputs": [
        {
          "name": "stdout",
          "output_type": "stream",
          "text": [
            "\u001b[33mWarning:\u001b[0m minikube 1.25.2 is already installed and up-to-date.\n",
            "😄  minikube v1.25.2 on Darwin 12.1\n",
            "✨  Using the hyperkit driver based on existing profile\n",
            "👍  Starting control plane node minikube in cluster minikube\n",
            "🏃  Updating the running hyperkit \"minikube\" VM ...\n",
            "🐳  Preparing Kubernetes v1.23.3 on Docker 20.10.12 ...\u001b[K\u001b[K\n",
            "🏄  Done! kubectl is now configured to use \"minikube\" cluster and \"default\" namespace\n"
          ]
        }
      ],
      "source": [
        "\n",
        "# Minikube provides a local Kubernetes cluster on common desktops\n",
        "!brew install minikube\n",
        "!minikube --memory=8G --cpus 4 start"
      ]
    },
    {
      "cell_type": "code",
      "execution_count": 1,
      "metadata": {
        "vscode": {
          "languageId": "shellscript"
        }
      },
      "outputs": [
        {
          "name": "stdout",
          "output_type": "stream",
          "text": [
            "\u001b[33mWarning:\u001b[0m kubernetes-cli 1.23.5 is already installed and up-to-date.\n",
            "\n",
            "apiVersion: v1\n",
            "clusters: null\n",
            "contexts: null\n",
            "current-context: \"\"\n",
            "kind: Config\n",
            "preferences: {}\n",
            "users: null\n"
          ]
        }
      ],
      "source": [
        "# Interaction with k8s (local) cluster is done through cli\n",
        "!brew install kubernetes-cli\n",
        "!kubectl config view"
      ]
    },
    {
      "cell_type": "code",
      "execution_count": 1,
      "metadata": {
        "vscode": {
          "languageId": "shellscript"
        }
      },
      "outputs": [
        {
          "name": "stdout",
          "output_type": "stream",
          "text": [
            "The connection to the server localhost:8080 was refused - did you specify the right host or port?\n"
          ]
        }
      ],
      "source": [
        "!kubectl get pods --all-namespaces"
      ]
    },
    {
      "cell_type": "markdown",
      "metadata": {},
      "source": [
        "<img src=\"Images/kubernetes_architecture_and_cluster_components-Medium_dot_com.png\" alt=\"drawing\" width=\"800\"/>"
      ]
    },
    {
      "cell_type": "markdown",
      "metadata": {},
      "source": [
        "---\n",
        "\n",
        "## ArgoWorkflows: brief introduction\n",
        "\n",
        "[**Definition**](https://argoproj.github.io/argo-workflows/): Argo Workflows is \n",
        "an open source container-native workflow engine for orchestrating parallel jobs\n",
        "on Kubernetes (and implemented as a Kubernetes Custom Resource Definition).\n",
        "\n",
        "<center>\n",
        "  <img src=\"Images/Argo_workflows_Architecture_diagram.png\" alt=\"drawing\" width=\"600\"/>\n",
        "\n",
        "  Argo Workflows architecture ([image copyright](https://argoproj.github.io/argo-workflows/architecture/))\n",
        "</center>\n",
        "\n",
        "### What you can do with argo\n",
        "\n",
        "* Provides a REST API\n",
        "* Featured UI\n",
        "* Work with workflows\n",
        "  * Create/define\n",
        "  * Persist (on the Kubernetes cluster) a.k.a. \"templating\"\n",
        "  * run a workflow\n",
        "\n",
        "### Main usages: \n",
        "\n",
        "* ML (Machine Learning), \n",
        "* ETL (Extract Transform Load), \n",
        "* Batch/Data processing, \n",
        "* CI/CD"
      ]
    },
    {
      "cell_type": "markdown",
      "metadata": {},
      "source": [
        "---\n",
        "\n",
        "### Installing Argo Workflows"
      ]
    },
    {
      "cell_type": "code",
      "execution_count": null,
      "metadata": {
        "vscode": {
          "languageId": "shellscript"
        }
      },
      "outputs": [],
      "source": [
        "# ArgoWorkflows comes as a k8s CRD\n",
        "!kubectl create ns argo\n",
        "!kubectl config set-context --current --namespace=argo\n",
        "!kubectl apply -f https://raw.githubusercontent.com/argoproj/argo-workflows/master/manifests/quick-start-postgres.yaml"
      ]
    },
    {
      "cell_type": "code",
      "execution_count": 1,
      "metadata": {
        "vscode": {
          "languageId": "shellscript"
        }
      },
      "outputs": [
        {
          "name": "stdout",
          "output_type": "stream",
          "text": [
            "NAMESPACE     NAME                                  READY   STATUS    RESTARTS      AGE\n",
            "argo          argo-server-78f47df69f-7pqwj          0/1     Running   2 (27s ago)   62s\n",
            "argo          minio-76f795c89b-lbvkw                1/1     Running   0             62s\n",
            "argo          postgres-869f7fbd7f-7fl7f             1/1     Running   0             62s\n",
            "argo          workflow-controller-b99cbc8bf-mfk6g   1/1     Running   2 (25s ago)   62s\n",
            "kube-system   coredns-64897985d-rb59b               1/1     Running   0             81s\n",
            "kube-system   etcd-minikube                         1/1     Running   0             97s\n",
            "kube-system   kube-apiserver-minikube               1/1     Running   0             96s\n",
            "kube-system   kube-controller-manager-minikube      1/1     Running   0             94s\n",
            "kube-system   kube-proxy-5lvkd                      1/1     Running   0             82s\n",
            "kube-system   kube-scheduler-minikube               1/1     Running   0             94s\n",
            "kube-system   storage-provisioner                   1/1     Running   1 (51s ago)   93s\n"
          ]
        }
      ],
      "source": [
        "# Interaction with argo servers is done through cli (just as kubernetes)\n",
        "!kubectl get pods --all-namespaces"
      ]
    },
    {
      "cell_type": "markdown",
      "metadata": {},
      "source": [
        "<center>\n",
        "  <img src=\"Images/Argo_workflows_Architecture_diagram.png\" alt=\"drawing\" width=\"400\"/>\n",
        "</center>"
      ]
    },
    {
      "cell_type": "markdown",
      "metadata": {},
      "source": [
        "---\n",
        "## Interacting with argo (server)"
      ]
    },
    {
      "cell_type": "code",
      "execution_count": 2,
      "metadata": {
        "vscode": {
          "languageId": "shellscript"
        }
      },
      "outputs": [
        {
          "name": "stdout",
          "output_type": "stream",
          "text": [
            "\u001b[33mWarning:\u001b[0m argo 3.3.1 is already installed and up-to-date.\n"
          ]
        }
      ],
      "source": [
        "# Interaction with argo server can done through cli (just as with k8s)\n",
        "!brew install argo"
      ]
    },
    {
      "cell_type": "code",
      "execution_count": 10,
      "metadata": {
        "vscode": {
          "languageId": "shellscript"
        }
      },
      "outputs": [
        {
          "name": "stdout",
          "output_type": "stream",
          "text": [
            "NAME                STATUS      AGE   DURATION   PRIORITY\n",
            "hello-world-fq6vc   Succeeded   19m   10s        0\n",
            "hello-world-k5fnn   Succeeded   20m   10s        0\n",
            "hello-world-n2j9q   Succeeded   23m   20s        0\n",
            "hello-world-snspb   Succeeded   1h    31s        0\n"
          ]
        }
      ],
      "source": [
        "!argo list"
      ]
    },
    {
      "cell_type": "code",
      "execution_count": 2,
      "metadata": {
        "vscode": {
          "languageId": "shellscript"
        }
      },
      "outputs": [
        {
          "name": "stdout",
          "output_type": "stream",
          "text": [
            "Forwarding from 127.0.0.1:2746 -> 2746\n"
          ]
        }
      ],
      "source": [
        "# Interaction with argo server can also be done through UI\n",
        "# Forward ad-hoc ports\n",
        "kubectl -n argo port-forward deployment/argo-server 2746:2746 &"
      ]
    },
    {
      "cell_type": "code",
      "execution_count": 1,
      "metadata": {
        "vscode": {
          "languageId": "shellscript"
        }
      },
      "outputs": [],
      "source": [
        "# Open UI per se\n",
        "!open https://localhost:2746"
      ]
    },
    {
      "cell_type": "markdown",
      "metadata": {},
      "source": [
        "## Authoring workflows\n",
        "\n",
        "Workflows (pipelines) are a succession of container jobs/batches witch hooked up Input/Outputs.\n",
        "So one first needs containers. \n"
      ]
    },
    {
      "cell_type": "code",
      "execution_count": 4,
      "metadata": {
        "vscode": {
          "languageId": "shellscript"
        }
      },
      "outputs": [
        {
          "name": "stdout",
          "output_type": "stream",
          "text": [
            " _____________________ \n",
            "< salut les bad gones >\n",
            " --------------------- \n",
            "    \\\n",
            "     \\\n",
            "      \\     \n",
            "                    ##        .            \n",
            "              ## ## ##       ==            \n",
            "           ## ## ## ##      ===            \n",
            "       /\"\"\"\"\"\"\"\"\"\"\"\"\"\"\"\"___/ ===        \n",
            "  ~~~ {~~ ~~~~ ~~~ ~~~~ ~~ ~ /  ===- ~~~   \n",
            "       \\______ o          __/            \n",
            "        \\    \\        __/             \n",
            "          \\____\\______/   \n"
          ]
        }
      ],
      "source": [
        "# User Minikube's built-in docker command, refer e.g. to\n",
        "eval $(minikube docker-env)\n",
        "docker run -it docker/whalesay cowsay \"salut les bad gones\""
      ]
    },
    {
      "cell_type": "markdown",
      "metadata": {},
      "source": [
        "Just as kubernetes uses [YAML](https://github.com/argoproj/argo-workflows/blob/master/examples/hello-world.yaml) \n",
        "for its configuration files, (argo) workflow descriptions, a.k.a. as templates, \n",
        "are expressed in YAML. Here is the workflow calling the `cowsay` container\n",
        "\n",
        "```bash\n",
        "apiVersion: argoproj.io/v1alpha1\n",
        "kind: Workflow\n",
        "metadata:\n",
        "  generateName: hello-world-                       # Use to label the logs\n",
        "  annotations:\n",
        "    workflows.argoproj.io/description: |\n",
        "      This is a simple hello world example.\n",
        "spec:\n",
        "  entrypoint: whalesay                             # On entry jump to the template named \"whalesay\"\n",
        "  templates:\n",
        "  - name: whalesay                                 # A template is a step/job/container-call\n",
        "    container:\n",
        "      image: docker/whalesay:latest                # Pull that image from docker-hub\n",
        "      command: [cowsay]                            # Run it with that command and arguments\n",
        "      args: [\"hello world\"]\n",
        "```"
      ]
    },
    {
      "cell_type": "code",
      "execution_count": null,
      "metadata": {
        "vscode": {
          "languageId": "shellscript"
        }
      },
      "outputs": [],
      "source": [
        "# Submission can be done on from CLI\n",
        "argo submit --watch https://raw.githubusercontent.com/argoproj/argo-workflows/master/examples/hello-world.yaml"
      ]
    },
    {
      "cell_type": "markdown",
      "metadata": {},
      "source": [
        "You can also watch it running with the UI\n",
        "\n",
        "Alternatively you can also "
      ]
    },
    {
      "cell_type": "markdown",
      "metadata": {},
      "source": [
        "---\n",
        "## Running your local workflows\n",
        "You first need to build the containers your workflow will use"
      ]
    },
    {
      "cell_type": "code",
      "execution_count": 3,
      "metadata": {
        "vscode": {
          "languageId": "shellscript"
        }
      },
      "outputs": [
        {
          "name": "stdout",
          "output_type": "stream",
          "text": [
            "Sending build context to Docker daemon  36.35kB\n",
            "Step 1/8 : FROM python:3.7-buster\n",
            " [...]\n",
            "Step 8/8 : CMD ['python3', 'entrypoint.py']\n",
            "---> Running in 4da9408de657\n",
            "Successfully built b74a1646146f\n",
            "Successfully tagged vcity/collect_lyon_data:latest\n",
            "\n",
            "Sending build context to Docker daemon  9.216kB\n",
            "Step 1/20 : FROM ubuntu:18.04\n",
            " [...]\n",
            "Step 20/20 : FROM python:3.7-buster\n",
            "Successfully tagged vcity/collect_lyon_data:latest\n",
            "\n",
            " [...]\n"
          ]
        }
      ],
      "source": [
        "# User Minikube's built-in docker command, refer e.g. to\n",
        "eval $(minikube docker-env)\n",
        "docker build -t vcity/collect_lyon_data Docker/Collect-DockerContext/\n",
        "docker build -t vcity/3duse ../Docker/3DUse-DockerContext/\n",
        "docker build -t vcity/citygml2stripper ../Docker/CityGML2Stripper-DockerContext/\n",
        "docker build --no-cache -t vcity/py3dtilers https://github.com/VCityTeam/py3dtilers-docker.git#:Context\n",
        "docker pull refstudycentre/scratch-base:latest"
      ]
    },
    {
      "cell_type": "code",
      "execution_count": 5,
      "metadata": {
        "vscode": {
          "languageId": "shellscript"
        }
      },
      "outputs": [
        {
          "name": "stdout",
          "output_type": "stream",
          "text": [
            "✦ ❯ 📁  Mounting host path /Users/eboix/tmp/VCity/ExpeData-Workflows_testing/ArgoWorkflows into VM as /data/host ...\n",
            "▪ User ID:      docker\n",
            "▪ Options:      map[]\n",
            "▪ Bind Address: X.Y.Z.1:64263\n",
            "✅  Successfully mounted /Users/eboix/tmp/VCity/ExpeData-Workflows_testing/ArgoWorkflows to /data/host\n"
          ]
        }
      ],
      "source": [
        "# Expose (a part of) your desktop/local filesystem as k8s available volume.\n",
        "# Change your working directory to where you want your workflow inputs/outputs \n",
        "# to be located and then \n",
        "!minikube mount `pwd`:/data/host &"
      ]
    },
    {
      "cell_type": "markdown",
      "metadata": {},
      "source": [
        "A workflow can now [use this directory as a volume](https://minikube.sigs.k8s.io/docs/handbook/mount/)) as\n",
        "\n",
        "```bash\n",
        "\"volumes\": [\n",
        "  {\n",
        "    \"name\": \"host-mount\",\n",
        "    \"hostPath\": {\n",
        "      \"path\": \"/data/host\"\n",
        "    }\n",
        "  }\n",
        "]\n",
        "```\n"
      ]
    }
  ],
  "metadata": {
    "interpreter": {
      "hash": "aee8b7b246df8f9039afb4144a1f6fd8d2ca17a180786b69acc140d282b71a49"
    },
    "kernelspec": {
      "display_name": "Python 3.9.10 64-bit",
      "language": "python",
      "name": "python3"
    },
    "language_info": {
      "codemirror_mode": {
        "name": "ipython",
        "version": 3
      },
      "file_extension": ".py",
      "mimetype": "text/x-python",
      "name": "python",
      "nbconvert_exporter": "python",
      "pygments_lexer": "ipython3",
      "version": "3.9.10"
    },
    "orig_nbformat": 4
  },
  "nbformat": 4,
  "nbformat_minor": 2
}
