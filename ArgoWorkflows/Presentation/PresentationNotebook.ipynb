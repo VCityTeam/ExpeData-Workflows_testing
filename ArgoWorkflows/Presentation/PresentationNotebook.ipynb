{
  "cells": [
    {
      "cell_type": "markdown",
      "metadata": {},
      "source": [
        "## A brief hands on illustration of Argo Workflows"
      ]
    },
    {
      "cell_type": "markdown",
      "metadata": {},
      "source": [
        "\n",
        "\n",
        "### Containers e.g. docker (prerequisite) \n",
        "\n",
        "[**Definition (wikipedia)**](https://en.wikipedia.org/wiki/Docker_(software)): \n",
        "Docker is a set of platform as a service (PaaS) products that use OS-level \n",
        "virtualization to deliver software in packages called containers. [...] The \n",
        "software that hosts the containers is called Docker Engine.\n",
        "\n",
        "<center>\n",
        "  <img src=\"Images/Docker-architecture-high-level-overview.png\" alt=\"drawing\" width=\"800\"/>\n",
        "\n",
        "  Docker architecture ([image copyright](https://docs.docker.com/get-started/overview/#docker-architecture))\n",
        "</center>\n",
        "\n",
        "Notes:\n",
        " * Main commands: `docker build <image>`, `docker pull <image>`, `docker run <image>`\n",
        " * [Docker Desktop](https://www.docker.com/products/docker-desktop/): a popular \n",
        "   implementation made by \n",
        "   [Docker Inc.](https://en.wikipedia.org/wiki/Docker,_Inc.)\n",
        "   Since [August 2021](https://en.wikipedia.org/wiki/Docker_(software)#Adoption) \n",
        "   Docker Desktop for Windows and MacOS is **no longer free** for enterprise \n",
        "   users.\n",
        " * [Alternative implementations](https://blog.alexellis.io/building-containers-without-docker/): \n",
        "   [Kaniko](https://github.com/GoogleContainerTools/kaniko)(unofficial Google \n",
        "   builder), \n",
        "   [podman](https://podman.io/)/[buildah](https://github.com/containers/buildah)\n",
        "   (RedHat / IBM's efforts),\n",
        "   [pouch](https://github.com/alibaba/pouch) (Alibaba)..."
      ]
    },
    {
      "cell_type": "markdown",
      "metadata": {},
      "source": [
        "---\n",
        "\n",
        "### Kubernetes (prerequisite)\n",
        "\n",
        "[**Definition** (wikipedia)](https://en.wikipedia.org/wiki/Kubernetes): Kubernetes\n",
        "(commonly stylized as K8s) is an open-source container (including docker) \n",
        "orchestration system for automating software deployment, scaling, and management.\n",
        "\n",
        "<center>\n",
        "  <img src=\"Images/kubernetes_architecture_and_cluster_components-Medium_dot_com.png\" alt=\"drawing\" width=\"800\"/>\n",
        "  \n",
        "  Kubernetes architecture and components ([image copyright](https://miro.medium.com/max/1000/1*kSRH4T8S1YmAuHbpgQ3Ylw.png))\n",
        "</center>\n",
        "\n",
        "Note: [Pod](https://kubernetes.io/docs/concepts/workloads/pods/) (K8s terminology): \n",
        "a group of one or more containers (the smallest deployable units of computing that\n",
        "you can create and manage in Kubernetes)"
      ]
    },
    {
      "cell_type": "markdown",
      "metadata": {},
      "source": [
        "---\n",
        "\n",
        "### [Minikube](https://minikube.sigs.k8s.io/docs/) (prerequisite)\n",
        "\n",
        "[**Definition**](https://github.com/kubernetes/minikube):  minikube implements \n",
        "local Kubernetes cluster on macOS, Linux, and Windows.\n",
        "\n",
        "<center>\n",
        "  <img src=\"Images/minikube-architecture.png\" alt=\"drawing\" width=\"800\"/>\n",
        "</center>\n",
        "\n",
        "Notes: \n",
        "* Minikube is provided by the k8s community under an \n",
        "  [Apache license](https://github.com/kubernetes/minikube/blob/master/LICENSE)).\n",
        "* Minikube provides a docker engine."
      ]
    },
    {
      "cell_type": "markdown",
      "metadata": {},
      "source": [
        "---\n",
        "## Installing minikube"
      ]
    },
    {
      "cell_type": "code",
      "execution_count": 8,
      "metadata": {
        "vscode": {
          "languageId": "shellscript"
        }
      },
      "outputs": [
        {
          "name": "stdout",
          "output_type": "stream",
          "text": [
            "Running `brew update --preinstall`...\n",
            "\u001b[34m==>\u001b[0m \u001b[1mAuto-updated Homebrew!\u001b[0m\n",
            "Updated 1 tap (homebrew/core).\n",
            "\u001b[34m==>\u001b[0m \u001b[1mUpdated Formulae\u001b[0m\n",
            "Updated 2 formulae.\n",
            "\n",
            "\u001b[33mWarning:\u001b[0m minikube 1.25.2 is already installed and up-to-date.\n",
            "To reinstall 1.25.2, run:\n",
            "  brew reinstall minikube\n",
            "😄  minikube v1.25.2 on Darwin 12.1\n",
            "✨  Using the hyperkit driver based on existing profile\n",
            "👍  Starting control plane node minikube in cluster minikube\n",
            "🏃  Updating the running hyperkit \"minikube\" VM ...\n",
            "🐳  Preparing Kubernetes v1.23.3 on Docker 20.10.12 ...\u001b[K\u001b[K\n",
            "    ▪ kubelet.housekeeping-interval=5m\n",
            "🔎  Verifying Kubernetes components...\n",
            "    ▪ Using image gcr.io/k8s-minikube/storage-provisioner:v5\n",
            "🌟  Enabled addons: storage-provisioner, default-storageclass\n",
            "🏄  Done! kubectl is now configured to use \"minikube\" cluster and \"default\" namespace by default\n",
            "\u001b[33mWarning:\u001b[0m kubernetes-cli 1.23.5 is already installed and up-to-date.\n",
            "To reinstall 1.23.5, run:\n",
            "  brew reinstall kubernetes-cli\n"
          ]
        }
      ],
      "source": [
        "\n",
        "# Minikube provides a local Kubernetes cluster on common desktops\n",
        "!brew install minikube\n",
        "!minikube --memory=8G --cpus 4 start"
      ]
    },
    {
      "cell_type": "code",
      "execution_count": null,
      "metadata": {
        "vscode": {
          "languageId": "shellscript"
        }
      },
      "outputs": [],
      "source": [
        "# Interaction with k8s (local) cluster is done through cli\n",
        "!brew install kubernetes-cli\n",
        "!kubectl config view"
      ]
    },
    {
      "cell_type": "code",
      "execution_count": 11,
      "metadata": {
        "vscode": {
          "languageId": "shellscript"
        }
      },
      "outputs": [
        {
          "name": "stdout",
          "output_type": "stream",
          "text": [
            "NAMESPACE     NAME                               READY   STATUS    RESTARTS        AGE\n",
            "kube-system   coredns-64897985d-tnsj2            1/1     Running   0               4m13s\n",
            "kube-system   etcd-minikube                      1/1     Running   1 (4m33s ago)   4m40s\n",
            "kube-system   kube-apiserver-minikube            1/1     Running   1 (4m32s ago)   4m42s\n",
            "kube-system   kube-controller-manager-minikube   1/1     Running   1 (4m32s ago)   4m40s\n",
            "kube-system   kube-proxy-skmlz                   1/1     Running   0               4m13s\n",
            "kube-system   kube-scheduler-minikube            1/1     Running   1 (4m32s ago)   4m40s\n",
            "kube-system   storage-provisioner                1/1     Running   0               4m39s\n"
          ]
        }
      ],
      "source": [
        "!kubectl get pods --all-namespaces"
      ]
    },
    {
      "cell_type": "markdown",
      "metadata": {},
      "source": [
        "<img src=\"Images/kubernetes_architecture_and_cluster_components-Medium_dot_com.png\" alt=\"drawing\" width=\"800\"/>"
      ]
    },
    {
      "cell_type": "markdown",
      "metadata": {},
      "source": [
        "---\n",
        "\n",
        "## ArgoWorkflows: brief introduction\n",
        "\n",
        "[**Definition**](https://argoproj.github.io/argo-workflows/): Argo Workflows is \n",
        "an open source container-native workflow engine for orchestrating parallel jobs\n",
        "on Kubernetes (and implemented as a Kubernetes Custom Resource Definition).\n",
        "\n",
        "<center>\n",
        "  <img src=\"Images/Argo_workflows_Architecture_diagram.png\" alt=\"drawing\" width=\"600\"/>\n",
        "\n",
        "  Argo Workflows architecture ([image copyright](https://argoproj.github.io/argo-workflows/architecture/))\n",
        "</center>\n",
        "\n",
        "### What you can do with argo\n",
        "\n",
        "* Provides a REST API\n",
        "* Featured UI\n",
        "* Work with workflows\n",
        "  * Create/define\n",
        "  * Persist (on the Kubernetes cluster) a.k.a. templating\n",
        "  * run a workflow\n",
        "\n",
        "### Main usages: \n",
        "\n",
        "* ML (Machine Learning), \n",
        "* ETL (Extract Transform Load), \n",
        "* Batch/Data processing, \n",
        "* CI/CD"
      ]
    },
    {
      "cell_type": "markdown",
      "metadata": {},
      "source": [
        "---\n",
        "\n",
        "### Installing Argo Workflows"
      ]
    },
    {
      "cell_type": "code",
      "execution_count": null,
      "metadata": {
        "vscode": {
          "languageId": "shellscript"
        }
      },
      "outputs": [],
      "source": [
        "# ArgoWorkflows comes as a k8s CRD\n",
        "!kubectl create ns argo\n",
        "!kubectl config set-context --current --namespace=argo\n",
        "!kubectl apply -f https://raw.githubusercontent.com/argoproj/argo-workflows/master/manifests/quick-start-postgres.yaml"
      ]
    },
    {
      "cell_type": "code",
      "execution_count": 2,
      "metadata": {
        "vscode": {
          "languageId": "shellscript"
        }
      },
      "outputs": [
        {
          "name": "stdout",
          "output_type": "stream",
          "text": [
            "NAMESPACE     NAME                                  READY   STATUS    RESTARTS      AGE\n",
            "argo          argo-server-78f47df69f-ltjd2          1/1     Running   2 (31m ago)   32m\n",
            "argo          minio-76f795c89b-4kmzh                1/1     Running   0             32m\n",
            "argo          postgres-869f7fbd7f-7ncjc             1/1     Running   0             32m\n",
            "argo          workflow-controller-b99cbc8bf-hx4rn   1/1     Running   2 (31m ago)   32m\n",
            "kube-system   coredns-64897985d-tnsj2               1/1     Running   0             39m\n",
            "kube-system   etcd-minikube                         1/1     Running   1 (40m ago)   40m\n",
            "kube-system   kube-apiserver-minikube               1/1     Running   1 (40m ago)   40m\n",
            "kube-system   kube-controller-manager-minikube      1/1     Running   1 (40m ago)   40m\n",
            "kube-system   kube-proxy-skmlz                      1/1     Running   0             39m\n",
            "kube-system   kube-scheduler-minikube               1/1     Running   1 (40m ago)   40m\n",
            "kube-system   storage-provisioner                   1/1     Running   0             40m\n"
          ]
        }
      ],
      "source": [
        "# Interaction with argo servers is done through cli (just as kubernetes)\n",
        "!kubectl get pods --all-namespaces"
      ]
    },
    {
      "cell_type": "markdown",
      "metadata": {},
      "source": [
        "<center>\n",
        "  <img src=\"Images/Argo_workflows_Architecture_diagram.png\" alt=\"drawing\" width=\"400\"/>\n",
        "</center>"
      ]
    },
    {
      "cell_type": "markdown",
      "metadata": {},
      "source": [
        "---\n",
        "## Interacting with argo (server)"
      ]
    },
    {
      "cell_type": "code",
      "execution_count": null,
      "metadata": {
        "vscode": {
          "languageId": "shellscript"
        }
      },
      "outputs": [],
      "source": [
        "# Interaction with argo server can done through cli (just as with k8s)\n",
        "!brew install argo"
      ]
    },
    {
      "cell_type": "code",
      "execution_count": 4,
      "metadata": {
        "vscode": {
          "languageId": "shellscript"
        }
      },
      "outputs": [
        {
          "name": "stdout",
          "output_type": "stream",
          "text": [
            "No workflows found\n"
          ]
        }
      ],
      "source": [
        "!argo list"
      ]
    },
    {
      "cell_type": "code",
      "execution_count": null,
      "metadata": {
        "vscode": {
          "languageId": "shellscript"
        }
      },
      "outputs": [],
      "source": [
        "# Interaction with argo server can also be done through UI\n",
        "# Forward ad-hoc ports\n",
        "!kubectl -n argo port-forward deployment/argo-server 2746:2746"
      ]
    },
    {
      "cell_type": "code",
      "execution_count": 9,
      "metadata": {
        "vscode": {
          "languageId": "shellscript"
        }
      },
      "outputs": [],
      "source": [
        "# Open UI per se\n",
        "!open https://localhost:2746"
      ]
    }
  ],
  "metadata": {
    "interpreter": {
      "hash": "aee8b7b246df8f9039afb4144a1f6fd8d2ca17a180786b69acc140d282b71a49"
    },
    "kernelspec": {
      "display_name": "Python 3.9.10 64-bit",
      "language": "python",
      "name": "python3"
    },
    "language_info": {
      "codemirror_mode": {
        "name": "ipython",
        "version": 3
      },
      "file_extension": ".py",
      "mimetype": "text/x-python",
      "name": "python",
      "nbconvert_exporter": "python",
      "pygments_lexer": "ipython3",
      "version": "3.9.10"
    },
    "orig_nbformat": 4
  },
  "nbformat": 4,
  "nbformat_minor": 2
}
